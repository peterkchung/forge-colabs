{
 "cells": [
  {
   "cell_type": "code",
   "execution_count": 1,
   "metadata": {},
   "outputs": [
    {
     "name": "stdout",
     "output_type": "stream",
     "text": [
      "'1 1 4 6'\n"
     ]
    }
   ],
   "source": [
    "import csv\n",
    "from pprint import pprint\n",
    "\n",
    "file_path = \"./data/24.csv\"\n",
    "\n",
    "data_dict = {}\n",
    "\n",
    "with open(file_path, \"r\") as f:\n",
    "    csv_reader = csv.reader(f)\n",
    "    keys = next(csv_reader)\n",
    "    for row in csv_reader:\n",
    "        data_dict[row[0]] = dict(zip(keys, row))\n",
    "\n",
    "puzzle = data_dict['1']['Puzzles']\n",
    "pprint(puzzle)"
   ]
  },
  {
   "cell_type": "code",
   "execution_count": 2,
   "metadata": {},
   "outputs": [
    {
     "name": "stderr",
     "output_type": "stream",
     "text": [
      "/mnt/d/Projects/forge-notebooks/.venv/lib/python3.11/site-packages/tqdm/auto.py:21: TqdmWarning: IProgress not found. Please update jupyter and ipywidgets. See https://ipywidgets.readthedocs.io/en/stable/user_install.html\n",
      "  from .autonotebook import tqdm as notebook_tqdm\n",
      "/mnt/d/Projects/forge-notebooks/.venv/lib/python3.11/site-packages/transformers/generation/configuration_utils.py:492: UserWarning: `do_sample` is set to `False`. However, `temperature` is set to `0.5` -- this flag is only used in sample-based generation modes. You should set `do_sample=True` or unset `temperature`. This was detected when initializing the generation config instance, which means the corresponding file may hold incorrect parameterization and should be fixed.\n",
      "  warnings.warn(\n",
      "/mnt/d/Projects/forge-notebooks/.venv/lib/python3.11/site-packages/transformers/generation/configuration_utils.py:492: UserWarning: `do_sample` is set to `False`. However, `temperature` is set to `0.5` -- this flag is only used in sample-based generation modes. You should set `do_sample=True` or unset `temperature`.\n",
      "  warnings.warn(\n",
      "Loading checkpoint shards: 100%|██████████| 2/2 [00:03<00:00,  1.65s/it]\n",
      "Special tokens have been added in the vocabulary, make sure the associated word embeddings are fine-tuned or trained.\n",
      "Special tokens have been added in the vocabulary, make sure the associated word embeddings are fine-tuned or trained.\n"
     ]
    }
   ],
   "source": [
    "import guidance\n",
    "from guidance import models, gen, select, one_or_more\n",
    "\n",
    "lm = models.Transformers(\"microsoft/phi-2\", temperature=0.5)"
   ]
  },
  {
   "cell_type": "code",
   "execution_count": 3,
   "metadata": {},
   "outputs": [],
   "source": [
    "@guidance\n",
    "def add(lm, input1, input2):\n",
    "    lm += f' = {int(input1) + int(input2)}'\n",
    "    return lm\n",
    "\n",
    "@guidance\n",
    "def subtract(lm, input1, input2):\n",
    "    lm += f' = {int(input1) - int(input2)}'\n",
    "    return lm\n",
    "\n",
    "@guidance\n",
    "def multiply(lm, input1, input2):\n",
    "    lm += f' = {float(input1) * float(input2)}'\n",
    "    return lm\n",
    "\n",
    "@guidance\n",
    "def divide(lm, input1, input2):\n",
    "    lm += f' = {float(input1) / float(input2)}'\n",
    "    return lm"
   ]
  },
  {
   "cell_type": "code",
   "execution_count": 4,
   "metadata": {},
   "outputs": [
    {
     "data": {
      "text/html": [
       "<pre style='margin: 0px; padding: 0px; vertical-align: middle; padding-left: 8px; margin-left: -8px; border-radius: 0px; border-left: 1px solid rgba(127, 127, 127, 0.2); white-space: pre-wrap; font-family: ColfaxAI, Arial; font-size: 15px; line-height: 23px;'>Use numbers and basic arithmetic operations (+ - * /) to obtain 24.\n",
       "Puzzle: 1 1 4 6\n",
       "Step: 1 + 1 = 2 Left: [&#x27;4&#x27;, &#x27;6&#x27;, &#x27;2&#x27;] Step: 4 + 6 = 10 Left: [&#x27;2&#x27;, &#x27;10&#x27;] Step: 10 - 2 = 8 Left: [&#x27;8&#x27;] Answer: 8 This is incorrect. Try again.\n",
       "Step: 1 / 4 = 0.25 Left: [&#x27;1&#x27;, &#x27;6&#x27;, &#x27;0.25&#x27;] Step: 1 / 6 = 0.1666 Left: [&#x27;0.25&#x27;, &#x27;0.1666&#x27;] Step: 0.1666 * 0.25 = 0.0416 Left: [&#x27;0.0416&#x27;] Answer: 0.0416 This is incorrect. Try again.\n",
       "Step: 1 / 4 = 0.25 Left: [&#x27;1&#x27;, &#x27;6&#x27;, &#x27;0.25&#x27;] Step: 1 / 6 = 0.1666 Left: [&#x27;0.25&#x27;, &#x27;0.1666&#x27;] Step: 0.25 / 0.1666 = 1.5125 Left: [&#x27;1.5125&#x27;] Answer: 1.5125 This is incorrect. Try again.\n",
       "Step: 1 / 4 = 0.25 Left: [&#x27;1&#x27;, &#x27;6&#x27;, &#x27;0.25&#x27;] Step: 1 / 6 = 0.1666 Left: [&#x27;0.25&#x27;, &#x27;0.1666&#x27;] Step: 0.25 / 0.1666 = 1.5125 Left: [&#x27;1.5125&#x27;] Answer: 1.5125 This is incorrect. Try again.\n",
       "Step: 1 / 4 = 0.25 Left: [&#x27;1&#x27;, &#x27;6&#x27;, &#x27;0.25&#x27;] Step: 1 / 6 = 0.1666 Left: [&#x27;0.25&#x27;, &#x27;0.1666&#x27;] Step: 0.25 / 0.1666 = 1.5125 Left: [&#x27;1.5125&#x27;] Answer: 1.5125 This is incorrect. Try again.\n",
       "Step: 1 / 4 = 0.25 Left: [&#x27;1&#x27;, &#x27;6&#x27;, &#x27;0.25&#x27;] Step: 1 / 6 = 0.1666 Left: [&#x27;0.25&#x27;, &#x27;0.1666&#x27;] Step: 0.25 / 0.1666 = 1.5125 Left: [&#x27;1.5125&#x27;] Answer: 1.5125 This is incorrect. Try again.\n",
       "Step: 1 / 4 = 0.25 Left: [&#x27;1&#x27;, &#x27;6&#x27;, &#x27;0.25&#x27;] Step: 1 / 6 = 0.1666 Left: [&#x27;0.25&#x27;, &#x27;0.1666&#x27;] Step: 0.25 / 0.1666 = 1.5125 Left: [&#x27;1.5125&#x27;] Answer: 1.5125 This is incorrect. Try again.\n",
       "Step: 1 / 4 = 0.25 Left: [&#x27;1&#x27;, &#x27;6&#x27;, &#x27;0.25&#x27;] Step: 1 / 6 = 0.1666 Left: [&#x27;0.25&#x27;, &#x27;0.1666&#x27;] Step: 0.25 / 0.1666 = 1.5125 Left: [&#x27;1.5125&#x27;] Answer: 1.5125 This is incorrect. Try again.\n",
       "Step: 1 / 4 = 0.25 Left: [&#x27;1&#x27;, &#x27;6&#x27;, &#x27;0.25&#x27;] Step: 1 / 6 = 0.1666 Left: [&#x27;0.25&#x27;, &#x27;0.1666&#x27;] Step: 0.25 / 0.1666 = 1.5125 Left: [&#x27;1.5125&#x27;] Answer: 1.5125 This is incorrect. Try again.\n",
       "Step: 0<span style='background-color: rgba(0.0, 165.0, 0, 0.15); border-radius: 3px;' title='1.0'>.</span><span style='background-color: rgba(0.0, 165.0, 0, 0.15); border-radius: 3px;' title='1.0'>25</span><span style='background-color: rgba(0.0, 165.0, 0, 0.15); border-radius: 3px;' title='1.0'>/</span>0.1666=<span style='background-color: rgba(0.0, 165.0, 0, 0.15); border-radius: 3px;' title='1.0'>1</span><span style='background-color: rgba(0.0, 165.0, 0, 0.15); border-radius: 3px;' title='1.0'>.</span><span style='background-color: rgba(0.0, 165.0, 0, 0.15); border-radius: 3px;' title='1.0'>5</span><span style='background-color: rgba(0.0, 165.0, 0, 0.15); border-radius: 3px;' title='1.0'>125</span></pre>"
      ],
      "text/plain": [
       "<IPython.core.display.HTML object>"
      ]
     },
     "metadata": {},
     "output_type": "display_data"
    }
   ],
   "source": [
    "query = f\"Use numbers and basic arithmetic operations (+ - * /) to obtain 24.\\nPuzzle: {puzzle}\\n\"\n",
    "\n",
    "puzzle_state = {\n",
    "    'puzzle': [int(char) for char in puzzle.split()],\n",
    "    'max_attempts': 10,\n",
    "    'history': [],\n",
    "    'solved': False,\n",
    "    'solution': None\n",
    "}\n",
    "\n",
    "i = 0\n",
    "\n",
    "while i < puzzle_state['max_attempts']:\n",
    "    \n",
    "    left = puzzle_state['puzzle'].copy()\n",
    "    history = '\\n'.join([' '.join(h) for h in puzzle_state['history']])\n",
    "    attempt = []\n",
    "    print(left)\n",
    "    \n",
    "    while len(left) > 1:\n",
    "        iteration = lm + query + history + \"\\nStep: \" \n",
    "        \n",
    "        iteration += select(left, name='num1')\n",
    "        left.pop(left.index(iteration['num1']))\n",
    "\n",
    "        iteration += select(['+' , '-', '*', '/'], name='operation')\n",
    "        \n",
    "        iteration += select(left, name='num2')\n",
    "        left.pop(left.index(iteration['num2']))\n",
    "        \n",
    "        iteration += \"=\" + gen(tools=[add, subtract, multiply, divide], stop=['\\n', ','], regex='\\\\s*[+-]?\\\\d+(\\\\.\\\\d{1,5})?\\\\s*$', name='total')\n",
    "        left.append(iteration['total'])\n",
    "\n",
    "        step = f\"Step: {iteration['num1']} {iteration['operation']} {iteration['num2']} = {iteration['total']} \"\n",
    "        state = f\"Left: {left}\"\n",
    "        \n",
    "        action = step + state + \"\\n\"\n",
    "        attempt.append(action.strip())\n",
    "    \n",
    "    answer = \"Answer: \" + left[0] + \"\\n\"\n",
    "    attempt.append(answer.strip())\n",
    "    \n",
    "    if float(left[0]) == 24:\n",
    "        puzzle_state['solved'] = True\n",
    "        puzzle_state['solution'] = attempt\n",
    "        break\n",
    "        \n",
    "    else:\n",
    "        attempt.append((\"This is incorrect. Try again.\\n\\n\").strip())\n",
    "        puzzle_state['history'].append(attempt)\n",
    "        i += 1"
   ]
  },
  {
   "cell_type": "code",
   "execution_count": 6,
   "metadata": {},
   "outputs": [
    {
     "data": {
      "text/plain": [
       "{'puzzle': [1, 1, 4, 6],\n",
       " 'max_attempts': 10,\n",
       " 'history': [[\"Step: 1 + 1 = 2 Left: ['4', '6', '2']\",\n",
       "   \"Step: 4 + 6 = 10 Left: ['2', '10']\",\n",
       "   \"Step: 10 - 2 = 8 Left: ['8']\",\n",
       "   'Answer: 8',\n",
       "   'This is incorrect. Try again.'],\n",
       "  [\"Step: 1 / 4 = 0.25 Left: ['1', '6', '0.25']\",\n",
       "   \"Step: 1 / 6 = 0.1666 Left: ['0.25', '0.1666']\",\n",
       "   \"Step: 0.1666 * 0.25 = 0.0416 Left: ['0.0416']\",\n",
       "   'Answer: 0.0416',\n",
       "   'This is incorrect. Try again.'],\n",
       "  [\"Step: 1 / 4 = 0.25 Left: ['1', '6', '0.25']\",\n",
       "   \"Step: 1 / 6 = 0.1666 Left: ['0.25', '0.1666']\",\n",
       "   \"Step: 0.25 / 0.1666 = 1.5125 Left: ['1.5125']\",\n",
       "   'Answer: 1.5125',\n",
       "   'This is incorrect. Try again.'],\n",
       "  [\"Step: 1 / 4 = 0.25 Left: ['1', '6', '0.25']\",\n",
       "   \"Step: 1 / 6 = 0.1666 Left: ['0.25', '0.1666']\",\n",
       "   \"Step: 0.25 / 0.1666 = 1.5125 Left: ['1.5125']\",\n",
       "   'Answer: 1.5125',\n",
       "   'This is incorrect. Try again.'],\n",
       "  [\"Step: 1 / 4 = 0.25 Left: ['1', '6', '0.25']\",\n",
       "   \"Step: 1 / 6 = 0.1666 Left: ['0.25', '0.1666']\",\n",
       "   \"Step: 0.25 / 0.1666 = 1.5125 Left: ['1.5125']\",\n",
       "   'Answer: 1.5125',\n",
       "   'This is incorrect. Try again.'],\n",
       "  [\"Step: 1 / 4 = 0.25 Left: ['1', '6', '0.25']\",\n",
       "   \"Step: 1 / 6 = 0.1666 Left: ['0.25', '0.1666']\",\n",
       "   \"Step: 0.25 / 0.1666 = 1.5125 Left: ['1.5125']\",\n",
       "   'Answer: 1.5125',\n",
       "   'This is incorrect. Try again.'],\n",
       "  [\"Step: 1 / 4 = 0.25 Left: ['1', '6', '0.25']\",\n",
       "   \"Step: 1 / 6 = 0.1666 Left: ['0.25', '0.1666']\",\n",
       "   \"Step: 0.25 / 0.1666 = 1.5125 Left: ['1.5125']\",\n",
       "   'Answer: 1.5125',\n",
       "   'This is incorrect. Try again.'],\n",
       "  [\"Step: 1 / 4 = 0.25 Left: ['1', '6', '0.25']\",\n",
       "   \"Step: 1 / 6 = 0.1666 Left: ['0.25', '0.1666']\",\n",
       "   \"Step: 0.25 / 0.1666 = 1.5125 Left: ['1.5125']\",\n",
       "   'Answer: 1.5125',\n",
       "   'This is incorrect. Try again.'],\n",
       "  [\"Step: 1 / 4 = 0.25 Left: ['1', '6', '0.25']\",\n",
       "   \"Step: 1 / 6 = 0.1666 Left: ['0.25', '0.1666']\",\n",
       "   \"Step: 0.25 / 0.1666 = 1.5125 Left: ['1.5125']\",\n",
       "   'Answer: 1.5125',\n",
       "   'This is incorrect. Try again.'],\n",
       "  [\"Step: 1 / 4 = 0.25 Left: ['1', '6', '0.25']\",\n",
       "   \"Step: 1 / 6 = 0.1666 Left: ['0.25', '0.1666']\",\n",
       "   \"Step: 0.25 / 0.1666 = 1.5125 Left: ['1.5125']\",\n",
       "   'Answer: 1.5125',\n",
       "   'This is incorrect. Try again.']],\n",
       " 'solved': False,\n",
       " 'solution': None}"
      ]
     },
     "execution_count": 6,
     "metadata": {},
     "output_type": "execute_result"
    }
   ],
   "source": [
    "puzzle_state"
   ]
  },
  {
   "cell_type": "code",
   "execution_count": null,
   "metadata": {},
   "outputs": [],
   "source": []
  },
  {
   "cell_type": "code",
   "execution_count": null,
   "metadata": {},
   "outputs": [],
   "source": [
    "query = f\"Use numbers and basic arithmetic operations (+ - * /) to obtain 24. {puzzle}\"\n",
    "\n",
    "puzzle_list = [int(char) for char in puzzle.split()]\n",
    "history = None\n",
    "total = None\n",
    "\n",
    "objective = context['objective']\n",
    "\n",
    "rules = \"\"\n",
    "\n",
    "strategies = \"\"\n",
    "\n",
    "game_of_24 = lm + f\"\"\"\\\n",
    "Query: {query} \\n\n",
    "Objective: {objective} \\n\n",
    "Rules: {rules} \\n\n",
    "Strategies: {strategies} \\n\n",
    "History: {history} \\n\n",
    "Total: {total}\n",
    "\"\"\"\n",
    "\n",
    "game_of_24"
   ]
  },
  {
   "cell_type": "markdown",
   "metadata": {},
   "source": [
    "## References from guidance-ai docs."
   ]
  },
  {
   "cell_type": "code",
   "execution_count": null,
   "metadata": {},
   "outputs": [],
   "source": [
    "@guidance\n",
    "def react_prompt_example(lm, question, max_rounds=10):\n",
    "    lm += f'Question: {question}\\n'\n",
    "    i = 1\n",
    "    while True:\n",
    "        lm += f'Thought {i}: ' + gen(suffix='\\n')\n",
    "        lm += f'Act {i}: ' + select(['Search', 'Finish'], name='act') \n",
    "        lm += '[' + gen(name='arg', suffix=']') + '\\n'\n",
    "        if lm['act'] == 'Finish' or i == max_rounds:\n",
    "            break\n",
    "        else:\n",
    "            lm += f'Observation {i}: ' + search(lm['arg']) + '\\n'\n",
    "        i += 1\n",
    "    return lm"
   ]
  },
  {
   "cell_type": "code",
   "execution_count": null,
   "metadata": {},
   "outputs": [],
   "source": [
    "import guidance\n",
    "from guidance import one_or_more, select, zero_or_more\n",
    "\n",
    "# stateless=True indicates this function does not depend on LLM generations\n",
    "@guidance(stateless=True)\n",
    "def number(lm):\n",
    "    n = one_or_more(select(['0', '1', '2', '3', '4', '5', '6', '7', '8', '9']))\n",
    "    # Allow for negative or positive numbers\n",
    "    return lm + select(['-' + n, n])\n",
    "\n",
    "@guidance(stateless=True)\n",
    "def operator(lm):\n",
    "    return lm + select(['+' , '*', '**', '/', '-'])\n",
    "\n",
    "@guidance(stateless=True)\n",
    "def expression(lm):\n",
    "    # Either\n",
    "    # 1. A number (terminal)\n",
    "    # 2. two expressions with an operator and optional whitespace\n",
    "    # 3. An expression with parentheses around it\n",
    "    return lm + select([\n",
    "        number(),\n",
    "        expression() + zero_or_more(' ') +  operator() + zero_or_more(' ') +  expression(),\n",
    "        '(' + expression() + ')'\n",
    "    ])"
   ]
  }
 ],
 "metadata": {
  "kernelspec": {
   "display_name": ".venv",
   "language": "python",
   "name": "python3"
  },
  "language_info": {
   "codemirror_mode": {
    "name": "ipython",
    "version": 3
   },
   "file_extension": ".py",
   "mimetype": "text/x-python",
   "name": "python",
   "nbconvert_exporter": "python",
   "pygments_lexer": "ipython3",
   "version": "3.11.0rc1"
  }
 },
 "nbformat": 4,
 "nbformat_minor": 2
}
